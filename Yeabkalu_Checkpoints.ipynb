{
  "cells": [
    {
      "cell_type": "markdown",
      "metadata": {
        "id": "view-in-github",
        "colab_type": "text"
      },
      "source": [
        "<a href=\"https://colab.research.google.com/github/YeabAM/ML-Practice/blob/main/Yeabkalu_Checkpoints.ipynb\" target=\"_parent\"><img src=\"https://colab.research.google.com/assets/colab-badge.svg\" alt=\"Open In Colab\"/></a>"
      ]
    },
    {
      "cell_type": "markdown",
      "id": "70d68298",
      "metadata": {
        "id": "70d68298"
      },
      "source": [
        "# Checkpoints"
      ]
    },
    {
      "cell_type": "markdown",
      "id": "67d0260a",
      "metadata": {
        "id": "67d0260a"
      },
      "source": [
        "**CP1**:\n",
        "Given the list $[A, B, C]$, use the `itertools` module to generate all possible\n",
        "combinations of 2 elements.\n",
        "\n",
        "**Expected Output**:\n",
        "$$\n",
        " (A, B) \\\\\n",
        " (A, C) \\\\\n",
        " (B, C)\n",
        "$$"
      ]
    },
    {
      "cell_type": "code",
      "execution_count": null,
      "id": "9dd63d67",
      "metadata": {
        "id": "9dd63d67",
        "outputId": "9a773754-8f66-4c2e-e71e-beec02c970ac",
        "colab": {
          "base_uri": "https://localhost:8080/"
        }
      },
      "outputs": [
        {
          "output_type": "stream",
          "name": "stdout",
          "text": [
            "[('A', 'B'), ('A', 'C'), ('B', 'C')]\n"
          ]
        }
      ],
      "source": [
        "#your code here\n",
        "import itertools\n",
        "\n",
        "letters = ['A','B','C']\n",
        "\n",
        "all_combination = list(itertools.combinations(letters, 2))\n",
        "print(all_combination)"
      ]
    },
    {
      "cell_type": "markdown",
      "id": "31c15dce",
      "metadata": {
        "id": "31c15dce"
      },
      "source": [
        "**CP2**:\n",
        "Use the `itertools` module to create a sequence that cycles through\n",
        "['Python', 'is', 'fun'] infinitely. Print the first 10 elements of the sequence.\n",
        "\n",
        "**Expected Output**:\n",
        "$$\n",
        "Python \\\\\n",
        "is\\\\\n",
        "fun\\\\\n",
        "Python\\\\\n",
        "is\\\\\n",
        "fun\\\\\n",
        "Python\\\\\n",
        "is\\\\\n",
        "fun\\\\\n",
        "Python\n",
        "$$"
      ]
    },
    {
      "cell_type": "code",
      "execution_count": null,
      "id": "c75f246c",
      "metadata": {
        "id": "c75f246c",
        "outputId": "b7c625d0-deaf-4648-c94e-d03ca426c9b1",
        "colab": {
          "base_uri": "https://localhost:8080/"
        }
      },
      "outputs": [
        {
          "output_type": "stream",
          "name": "stdout",
          "text": [
            "Python\n",
            "is\n",
            "fun\n",
            "Python\n",
            "is\n",
            "fun\n",
            "Python\n",
            "is\n",
            "fun\n",
            "Python\n"
          ]
        }
      ],
      "source": [
        "#your code here\n",
        "sequence =  ['Python', 'is', 'fun']\n",
        "inf_seq = itertools.cycle(sequence)\n",
        "\n",
        "for _ in range(10):\n",
        "  print(next(inf_seq))"
      ]
    },
    {
      "cell_type": "code",
      "source": [
        "#creating a py file for the next checkpoint and I am using writefile magic command\n",
        "%%writefile test.py\n",
        "\n",
        "# Contents of the test.py file\n",
        "print(\"Hello, world!\")\n"
      ],
      "metadata": {
        "id": "vKAEEm6Im5A_",
        "outputId": "c55184b9-f090-4a37-d3af-56f73c541c86",
        "colab": {
          "base_uri": "https://localhost:8080/"
        }
      },
      "id": "vKAEEm6Im5A_",
      "execution_count": null,
      "outputs": [
        {
          "output_type": "stream",
          "name": "stdout",
          "text": [
            "Overwriting test.py\n"
          ]
        }
      ]
    },
    {
      "cell_type": "markdown",
      "id": "cbef0f63",
      "metadata": {
        "id": "cbef0f63"
      },
      "source": [
        "**CP3**:\n",
        "Use the `glob` module to list all python (.py) files in your current working directory.\n",
        "\n",
        "\n"
      ]
    },
    {
      "cell_type": "code",
      "execution_count": null,
      "id": "3e62d5b4",
      "metadata": {
        "id": "3e62d5b4",
        "outputId": "22ae4c46-9e74-4182-b0c7-167375e59ebe",
        "colab": {
          "base_uri": "https://localhost:8080/"
        }
      },
      "outputs": [
        {
          "output_type": "stream",
          "name": "stdout",
          "text": [
            "/content/test.py\n"
          ]
        }
      ],
      "source": [
        "#your code here\n",
        "import os, glob\n",
        "current_dir = os.getcwd()\n",
        "pattern = '*.py'\n",
        "file_pattern = os.path.join(current_dir,pattern)\n",
        "\n",
        "py_files = glob.glob(file_pattern)\n",
        "\n",
        "for file in py_files:\n",
        "  print(file)"
      ]
    },
    {
      "cell_type": "markdown",
      "id": "d266d698",
      "metadata": {
        "id": "d266d698"
      },
      "source": [
        "**CP4**: You are given the following HTML content below. Write a function that uses BeautifulSoup to parse the HTML and extract the text inside the   '$<p>$'   tag.\n"
      ]
    },
    {
      "cell_type": "code",
      "execution_count": null,
      "id": "27f941c8",
      "metadata": {
        "id": "27f941c8",
        "outputId": "ccba91e5-4ed7-4762-8a86-840b5a6fd450",
        "colab": {
          "base_uri": "https://localhost:8080/"
        }
      },
      "outputs": [
        {
          "output_type": "stream",
          "name": "stdout",
          "text": [
            "Looking in indexes: https://pypi.org/simple, https://us-python.pkg.dev/colab-wheels/public/simple/\n",
            "Requirement already satisfied: beautifulsoup4 in /usr/local/lib/python3.10/dist-packages (4.11.2)\n",
            "Requirement already satisfied: soupsieve>1.2 in /usr/local/lib/python3.10/dist-packages (from beautifulsoup4) (2.4.1)\n"
          ]
        }
      ],
      "source": [
        "html_doc = \"\"\"\n",
        "<html><body><div class='main'><h1>Welcome to AI</h1><p>AI is transforming the world</p></div></body></html>\n",
        "\"\"\"\n",
        "#install beautifulsoup using pip\n",
        "!pip install beautifulsoup4"
      ]
    },
    {
      "cell_type": "code",
      "execution_count": null,
      "id": "6fb1cdcf",
      "metadata": {
        "id": "6fb1cdcf",
        "outputId": "893c1149-9ebc-4d31-e6e8-77c9da98306a",
        "colab": {
          "base_uri": "https://localhost:8080/"
        }
      },
      "outputs": [
        {
          "output_type": "stream",
          "name": "stdout",
          "text": [
            "AI is transforming the world\n"
          ]
        }
      ],
      "source": [
        "#your code here\n",
        "from bs4 import BeautifulSoup\n",
        "soup = BeautifulSoup(html_doc, 'html.parser')\n",
        "p_tags = soup.find_all('p')\n",
        "\n",
        "for p_tag in p_tags:\n",
        "  print(p_tag.get_text())\n"
      ]
    },
    {
      "cell_type": "markdown",
      "id": "a1fce3ef",
      "metadata": {
        "id": "a1fce3ef"
      },
      "source": [
        "**CP5**: Write a function that uses the re module to replace all occurrences of the word \"AI\" with \"Artificial Intelligence\" in a given text."
      ]
    },
    {
      "cell_type": "code",
      "source": [
        "#define a function that replace the word using a replacement pattern in the given text\n",
        "import re\n",
        "\n",
        "def replace_word(text, replacements):\n",
        "    for word, replacement in replacements.items():\n",
        "        pattern = r'\\b' + re.escape(word) + r'\\b'\n",
        "        text = re.sub(pattern, replacement, text)\n",
        "    return text"
      ],
      "metadata": {
        "id": "0f7gdy_rsiKC"
      },
      "id": "0f7gdy_rsiKC",
      "execution_count": null,
      "outputs": []
    },
    {
      "cell_type": "code",
      "execution_count": null,
      "id": "07178a2d",
      "metadata": {
        "id": "07178a2d",
        "outputId": "a9ae4b82-8a2d-4eec-fe64-8368b0ebfe80",
        "colab": {
          "base_uri": "https://localhost:8080/"
        }
      },
      "outputs": [
        {
          "output_type": "stream",
          "name": "stdout",
          "text": [
            "old text:  AI is transforming the world.\n",
            "new text:  Artificial Intelligence is transforming the world.\n"
          ]
        }
      ],
      "source": [
        "\n",
        "text = \"AI is transforming the world.\"\n",
        "replacements = {\n",
        "    'AI': 'Artificial Intelligence'\n",
        "}\n",
        "new_text = replace_word(text, replacements)\n",
        "print(\"old text: \", text)\n",
        "print(\"new text: \", new_text)\n"
      ]
    },
    {
      "cell_type": "markdown",
      "id": "4e471de6",
      "metadata": {
        "id": "4e471de6"
      },
      "source": [
        "**CP6**: Create a numpy array of 10 zeros."
      ]
    },
    {
      "cell_type": "code",
      "execution_count": null,
      "id": "7f6e9acb",
      "metadata": {
        "id": "7f6e9acb",
        "outputId": "d99adbe7-09c3-4e3b-88e4-143a023bb6d0",
        "colab": {
          "base_uri": "https://localhost:8080/"
        }
      },
      "outputs": [
        {
          "output_type": "stream",
          "name": "stdout",
          "text": [
            "[0. 0. 0. 0. 0. 0. 0. 0. 0. 0.]\n"
          ]
        }
      ],
      "source": [
        "#your code here\n",
        "import numpy as np\n",
        "zero_array = np.zeros(10)\n",
        "print(zero_array)"
      ]
    },
    {
      "cell_type": "markdown",
      "id": "5f52a63e",
      "metadata": {
        "id": "5f52a63e"
      },
      "source": [
        "**CP7** Create a numpy array of the integers from 10 to 49."
      ]
    },
    {
      "cell_type": "code",
      "execution_count": null,
      "id": "ddb01e9a",
      "metadata": {
        "id": "ddb01e9a",
        "outputId": "a20913af-9b8c-429f-9530-4077bf43a2cc",
        "colab": {
          "base_uri": "https://localhost:8080/"
        }
      },
      "outputs": [
        {
          "output_type": "stream",
          "name": "stdout",
          "text": [
            "[10 11 12 13 14 15 16 17 18 19 20 21 22 23 24 25 26 27 28 29 30 31 32 33\n",
            " 34 35 36 37 38 39 40 41 42 43 44 45 46 47 48 49]\n"
          ]
        }
      ],
      "source": [
        "#your code here\n",
        "array = np.arange(10, 50)\n",
        "print(array)"
      ]
    },
    {
      "cell_type": "markdown",
      "id": "79e4d614",
      "metadata": {
        "id": "79e4d614"
      },
      "source": [
        "**CP8**: Create a 3x3 numpy matrix, filled with values ranging from 0 to 8."
      ]
    },
    {
      "cell_type": "code",
      "execution_count": null,
      "id": "d3eddea4",
      "metadata": {
        "id": "d3eddea4",
        "outputId": "7890713a-c3f2-452f-9f58-ad786a990c68",
        "colab": {
          "base_uri": "https://localhost:8080/"
        }
      },
      "outputs": [
        {
          "output_type": "stream",
          "name": "stdout",
          "text": [
            "[[0 1 2]\n",
            " [3 4 5]\n",
            " [6 7 8]]\n"
          ]
        }
      ],
      "source": [
        "#your code here\n",
        "array = np.arange(0, 9).reshape(3, 3)\n",
        "print(array)"
      ]
    },
    {
      "cell_type": "markdown",
      "id": "1b09270f",
      "metadata": {
        "id": "1b09270f"
      },
      "source": [
        "**CP9**: Explain why machine learning models require large amounts of data? What does it mean for an amount of data to be **large**?"
      ]
    },
    {
      "cell_type": "markdown",
      "source": [
        "**Explanation**:\n",
        "Machine Learning models work using by building a mathemetical pattern from the given data and and deep learning they use neural network to do that in a more sophisticated way. So the for the model to have a greater accuracy, the quality and quantity of the data have direct effect. This means that the larger the data it is trained upon the more reliable and accurate the model becomes.\n",
        "The next question is what does **large** mean:\n",
        "Data is large if the amount if big enough in terms of quantity. It most importantly means have greater amount of variety and diversity in it which also makes the model to predict in better accuracy. This will help the model prevent it from overfitting and enough dataset will be there to split it in reasonable manner to testing and training sets"
      ],
      "metadata": {
        "id": "V6UhunMAul5d"
      },
      "id": "V6UhunMAul5d"
    },
    {
      "cell_type": "markdown",
      "source": [],
      "metadata": {
        "id": "M4A6ZcVIuisQ"
      },
      "id": "M4A6ZcVIuisQ"
    },
    {
      "cell_type": "markdown",
      "id": "1a357bde",
      "metadata": {
        "id": "1a357bde"
      },
      "source": [
        "**CP10**: Explain 2 ways AI can be used in an adverserial way, and what can be done to prevent it."
      ]
    },
    {
      "cell_type": "markdown",
      "source": [
        "There are several ways AI can be used in adverserial way:\n",
        "\n",
        "\n",
        "*   DeepFakes: With high advancement in computer vision, we are able to recreate characters and faces that look so real to the real people and indistinguishable from the real person. This can be used to spread false information by mimicking reliable and relevant personnel\n",
        "*   Models can be poisined with wrong information to morph and teach them to spread false information\n",
        "\n",
        "The above can be prevent by using different anomaly detection algorithms that can detect such adeverserial activities, we can also do adverserrial training on the model so that it can recognise malicious activities and we can already see it in ChatGPT where if it is asked to do some illegal activities, it will understand it and refuses to proceed. These are just examples to make sure that the AI is as safe as possible\n",
        "\n"
      ],
      "metadata": {
        "id": "PtXP87bKwU6n"
      },
      "id": "PtXP87bKwU6n"
    },
    {
      "cell_type": "code",
      "source": [],
      "metadata": {
        "id": "6jRAF76Ow9lu"
      },
      "id": "6jRAF76Ow9lu",
      "execution_count": null,
      "outputs": []
    }
  ],
  "metadata": {
    "kernelspec": {
      "display_name": "Python 3 (ipykernel)",
      "language": "python",
      "name": "python3"
    },
    "language_info": {
      "codemirror_mode": {
        "name": "ipython",
        "version": 3
      },
      "file_extension": ".py",
      "mimetype": "text/x-python",
      "name": "python",
      "nbconvert_exporter": "python",
      "pygments_lexer": "ipython3",
      "version": "3.8.2"
    },
    "varInspector": {
      "cols": {
        "lenName": 16,
        "lenType": 16,
        "lenVar": 40
      },
      "kernels_config": {
        "python": {
          "delete_cmd_postfix": "",
          "delete_cmd_prefix": "del ",
          "library": "var_list.py",
          "varRefreshCmd": "print(var_dic_list())"
        },
        "r": {
          "delete_cmd_postfix": ") ",
          "delete_cmd_prefix": "rm(",
          "library": "var_list.r",
          "varRefreshCmd": "cat(var_dic_list()) "
        }
      },
      "types_to_exclude": [
        "module",
        "function",
        "builtin_function_or_method",
        "instance",
        "_Feature"
      ],
      "window_display": false
    },
    "colab": {
      "provenance": [],
      "include_colab_link": true
    }
  },
  "nbformat": 4,
  "nbformat_minor": 5
}